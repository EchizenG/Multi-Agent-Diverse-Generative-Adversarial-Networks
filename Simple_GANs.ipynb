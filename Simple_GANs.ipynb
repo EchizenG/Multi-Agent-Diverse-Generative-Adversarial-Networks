{
 "cells": [
  {
   "cell_type": "markdown",
   "metadata": {
    "slideshow": {
     "slide_type": "slide"
    }
   },
   "source": [
    "## Module 1: Vanilla GAN"
   ]
  },
  {
   "cell_type": "code",
   "execution_count": 105,
   "metadata": {
    "slideshow": {
     "slide_type": "slide"
    }
   },
   "outputs": [],
   "source": [
    "# Initialization of libraries\n",
    "import torch\n",
    "import torch.nn\n",
    "import torch.nn as nn\n",
    "import torch.autograd as autograd\n",
    "import torch.optim as optim\n",
    "import numpy as np\n",
    "import matplotlib.pyplot as plt\n",
    "import matplotlib.gridspec as gridspec\n",
    "import os\n",
    "from torch.autograd import Variable\n",
    "import torchvision\n",
    "import torchvision.transforms as transforms\n",
    "import random\n",
    "from sklearn.mixture import GMM\n",
    "device = torch.device('cuda')\n",
    "%matplotlib inline"
   ]
  },
  {
   "cell_type": "code",
   "execution_count": 106,
   "metadata": {},
   "outputs": [],
   "source": [
    "# defining parameters for the training\n",
    "mb_size = 128 # Batch Size\n",
    "Z_dim = 64  # Length of noise vector\n",
    "X_dim = 1  # Input Length\n",
    "h_dim = 128  # Hidden Dimension\n",
    "lr = 1e-4    # Learning Rate"
   ]
  },
  {
   "cell_type": "markdown",
   "metadata": {
    "slideshow": {
     "slide_type": "notes"
    }
   },
   "source": [
    "Custom weights initialization function.\n",
    "\n",
    "(Read later about Xavier initialization: http://andyljones.tumblr.com/post/110998971763/an-explanation-of-xavier-initialization)\n",
    "\n",
    "(Link to paper: https://arxiv.org/abs/1406.2661)"
   ]
  },
  {
   "cell_type": "markdown",
   "metadata": {
    "slideshow": {
     "slide_type": "slide"
    }
   },
   "source": [
    "We are using MNIST dataset for these experiments. Let us load the dataset. We will also define some functions that will be used for the other modules of this lab. Note that we are flattening the MNIST images into one dimensional vectors."
   ]
  },
  {
   "cell_type": "code",
   "execution_count": 131,
   "metadata": {
    "slideshow": {
     "slide_type": "slide"
    }
   },
   "outputs": [
    {
     "name": "stderr",
     "output_type": "stream",
     "text": [
      "/home/shyam.nandan/.local/lib/python2.7/site-packages/sklearn/utils/deprecation.py:58: DeprecationWarning: Class GMM is deprecated; The class GMM is deprecated in 0.18 and will be  removed in 0.20. Use class GaussianMixture instead.\n",
      "  warnings.warn(msg, category=DeprecationWarning)\n"
     ]
    },
    {
     "name": "stdout",
     "output_type": "stream",
     "text": [
      "[[ 61.25953069]\n",
      " [ 80.53909592]\n",
      " [ 11.96357701]\n",
      " [ 21.04461267]\n",
      " [ 10.55752614]\n",
      " [ 13.06812035]\n",
      " [ 13.29382082]\n",
      " [ 19.77366113]\n",
      " [ 22.31354885]\n",
      " [ 60.25797928]]\n",
      "0.0\n"
     ]
    },
    {
     "data": {
      "image/png": "[encoded data removed]",
      "text/plain": [
       "<matplotlib.figure.Figure at 0x7f9c4f723690>"
      ]
     },
     "metadata": {},
     "output_type": "display_data"
    }
   ],
   "source": [
    "def gaussian(x):\n",
    "    f1 = np.exp(-np.power(x - 10, 2.) / (2 * np.power(3, 2.)))\n",
    "    f2 = np.exp(-np.power(x - 20, 2.) / (2 * np.power(3, 2.)))\n",
    "    f3 = np.exp(-np.power(x - 60, 2.) / (2 * np.power(2, 2.)))\n",
    "    f4 = np.exp(-np.power(x - 80, 2.) / (2 * np.power(2, 2.)))\n",
    "    f5 = np.exp(-np.power(x - 110, 2.) / (2 * np.power(1, 2.)))\n",
    "    return (f1+f2+f3+f4)\n",
    "\n",
    "#x_values = np.linspace(0, 120, 200000)\n",
    "#data = gaussian(x_values)\n",
    "#data = data/max(data)\n",
    "#plt.plot(data)\n",
    "np.random.seed(1)\n",
    "gmm = GMM(5)\n",
    "gmm.means_ = np.array([[10], [20], [60], [80], [110]])\n",
    "gmm.covars_ = np.array([[3], [3], [2], [2], [1]]) ** 2\n",
    "gmm.weights_ = np.array([0.2, 0.2, 0.2, 0.2, 0.2])\n",
    "\n",
    "X = gmm.sample(200000)\n",
    "print(X[0:10])\n",
    "data = X\n",
    "data = (data - X.min())/(X.max()-X.min())\n",
    "plt.hist(data, 200000, normed=False, histtype='stepfilled', alpha=1)\n",
    "print(data.min())"
   ]
  },
  {
   "cell_type": "markdown",
   "metadata": {
    "slideshow": {
     "slide_type": "slide"
    }
   },
   "source": [
    " Now, let us define the network structure. For this experiment, we are not using deep networks. We are not even using torch.nn layers. Instead, we will use simple linear fully connected layers. The generator and discriminators are 2-layer networks. This is why we flattened the images in the block above."
   ]
  },
  {
   "cell_type": "code",
   "execution_count": 132,
   "metadata": {
    "slideshow": {
     "slide_type": "slide"
    }
   },
   "outputs": [],
   "source": [
    "G = torch.nn.Sequential(\n",
    "    torch.nn.Linear(Z_dim, h_dim),\n",
    "    torch.nn.PReLU(),\n",
    "    torch.nn.Linear(h_dim, h_dim),\n",
    "    torch.nn.PReLU(),\n",
    "    torch.nn.Linear(h_dim, X_dim),\n",
    "    torch.nn.Sigmoid()\n",
    ")\n",
    "\n",
    "D = torch.nn.Sequential(\n",
    "    torch.nn.Linear(X_dim, h_dim),\n",
    "    torch.nn.LeakyReLU(0.2),\n",
    "    torch.nn.Linear(h_dim, h_dim),\n",
    "    torch.nn.LeakyReLU(0.2),\n",
    "    torch.nn.Linear(h_dim, 1),\n",
    "    torch.nn.Sigmoid()\n",
    ")\n",
    "\n",
    "G = G.cuda()\n",
    "D = D.cuda()"
   ]
  },
  {
   "cell_type": "markdown",
   "metadata": {
    "slideshow": {
     "slide_type": "slide"
    }
   },
   "source": [
    "Here, we will gather the parameters of the generator and the discriminator so that they can be given to the Adam optimizer to update the weights"
   ]
  },
  {
   "cell_type": "code",
   "execution_count": 133,
   "metadata": {
    "slideshow": {
     "slide_type": "slide"
    }
   },
   "outputs": [],
   "source": [
    "G_solver = optim.Adam(G.parameters(), lr)\n",
    "D_solver = optim.Adam(D.parameters(), lr)\n",
    "\n",
    "ones_label = torch.ones(mb_size,1)\n",
    "zeros_label = torch.zeros(mb_size,1)\n",
    "loss = nn.BCELoss()\n",
    "ones_label = ones_label.to(device)\n",
    "zeros_label = zeros_label.to(device)"
   ]
  },
  {
   "cell_type": "code",
   "execution_count": 134,
   "metadata": {},
   "outputs": [],
   "source": [
    "# Reset the gradients to zero\n",
    "params = [G, D]\n",
    "def reset_grad():\n",
    "    for net in params:\n",
    "        net.zero_grad()"
   ]
  },
  {
   "cell_type": "markdown",
   "metadata": {
    "slideshow": {
     "slide_type": "slide"
    }
   },
   "source": [
    " Now, we will start the actual training. The training alternates between updating the discriminator network's weights and updating the generator's weight.First, we update the discriminator's weight. We take a minibatch from the dataset and do a forward pass on the discriminator with the label '1'. Then, we feed noise into the generator and feed the generated images into the discriminator with the label '0'. We backpropagate the error and update the discriminator weights. To update the generator weights, we feed noise to the generator and feed the generated images into the discriminator with the label '1'. This error is backpropagated to update the weights of G."
   ]
  },
  {
   "cell_type": "code",
   "execution_count": 135,
   "metadata": {},
   "outputs": [
    {
     "name": "stdout",
     "output_type": "stream",
     "text": [
      "Iter-0; D_loss: 1.38275837898; G_loss: 0.693978488445\n",
      "Iter-10000; D_loss: 1.32821035385; G_loss: 0.761459052563\n",
      "Iter-20000; D_loss: 1.37750244141; G_loss: 0.760051012039\n",
      "Iter-30000; D_loss: 1.3864556551; G_loss: 0.735770404339\n",
      "Iter-40000; D_loss: 1.37976050377; G_loss: 0.707929611206\n",
      "Iter-50000; D_loss: 1.3865904808; G_loss: 0.709010481834\n",
      "Iter-60000; D_loss: 1.38838100433; G_loss: 0.697671771049\n",
      "Iter-70000; D_loss: 1.33779454231; G_loss: 0.756409287453\n",
      "Iter-80000; D_loss: 1.41952466965; G_loss: 0.704879105091\n",
      "Iter-90000; D_loss: 1.38234674931; G_loss: 0.720855236053\n",
      "Iter-100000; D_loss: 1.38029098511; G_loss: 0.709856033325\n",
      "Iter-110000; D_loss: 1.38914251328; G_loss: 0.678947985172\n",
      "Iter-120000; D_loss: 1.37909913063; G_loss: 0.703401207924\n",
      "Iter-130000; D_loss: 1.38190758228; G_loss: 0.697667479515\n",
      "Iter-140000; D_loss: 1.37582969666; G_loss: 0.689107298851\n",
      "Iter-150000; D_loss: 1.38695311546; G_loss: 0.697121620178\n",
      "Iter-160000; D_loss: 1.38445770741; G_loss: 0.682939887047\n",
      "Iter-170000; D_loss: 1.38505244255; G_loss: 0.6886729002\n",
      "Iter-180000; D_loss: 1.38116121292; G_loss: 0.719940960407\n",
      "Iter-190000; D_loss: 1.38739848137; G_loss: 0.712362289429\n"
     ]
    }
   ],
   "source": [
    "data_index = 0\n",
    "for it in range(198000):\n",
    "    \n",
    "    \n",
    "    # ###\n",
    "    if ((data_index + 1)*mb_size>len(data)):\n",
    "        data_index = 0\n",
    "    # ###\n",
    "    #z = torch.randn(mb_size, Z_dim)\n",
    "    z = torch.FloatTensor(mb_size, Z_dim).uniform_(-1, 1)\n",
    "    X = torch.from_numpy(np.array(data[data_index*mb_size : (data_index + 1)*mb_size]))\n",
    "    X = X.view(mb_size, 1)\n",
    "    X = X.type(torch.FloatTensor)\n",
    "    X = X.to(device)\n",
    "    z = z.to(device)\n",
    "    \n",
    "    # Dicriminator forward-loss-backward-update\n",
    "    #forward pass\n",
    "    G_sample = G(z)\n",
    "    D_real = D(X)\n",
    "    D_fake = D(G_sample)\n",
    "    \n",
    "    # Calculate the loss\n",
    "    D_loss_real = loss(D_real, ones_label)\n",
    "    D_loss_fake = loss(D_fake, zeros_label)\n",
    "    D_loss = D_loss_real + D_loss_fake\n",
    "\n",
    "    # Calulate and update gradients of discriminator\n",
    "    D_loss.backward()\n",
    "    D_solver.step()\n",
    "\n",
    "    # reset gradient\n",
    "    reset_grad()\n",
    "\n",
    "    # Generator forward-loss-backward-update\n",
    "    \n",
    "    #z = torch.randn(mb_size, Z_dim)\n",
    "    z = torch.FloatTensor(mb_size, Z_dim).uniform_(-1, 1)\n",
    "    z = z.to(device)\n",
    "    G_sample = G(z)\n",
    "    D_fake = D(G_sample)\n",
    "\n",
    "    G_loss = loss(D_fake, ones_label)\n",
    "\n",
    "    G_loss.backward()\n",
    "    G_solver.step()\n",
    "\n",
    "    # reset gradient\n",
    "    reset_grad()\n",
    "    data_index = data_index + 1\n",
    "    # Print and plot every now and then\n",
    "    if it % 10000 == 0:\n",
    "        print('Iter-{}; D_loss: {}; G_loss: {}'.format(it, D_loss.data.cpu().numpy(), G_loss.data.cpu().numpy()))"
   ]
  },
  {
   "cell_type": "markdown",
   "metadata": {},
   "source": [
    " Let us see the images generated by the generator:"
   ]
  },
  {
   "cell_type": "code",
   "execution_count": 153,
   "metadata": {},
   "outputs": [
    {
     "data": {
      "image/png": "[encoded data removed]",
      "text/plain": [
       "<matplotlib.figure.Figure at 0x7f9c4ad8c490>"
      ]
     },
     "metadata": {},
     "output_type": "display_data"
    }
   ],
   "source": [
    "import numpy as np\n",
    "final = np.zeros(1500*mb_size, dtype = float)\n",
    "for i in range(1500):\n",
    "    z = torch.FloatTensor(64, Z_dim).uniform_(-1, 1)\n",
    "    z = z.to(device)\n",
    "    l = G(z).cpu().detach().numpy()\n",
    "    final[i*mb_size : ((i+ 1)*mb_size -1)] = l[0]\n",
    "p1 = plt.hist(final, 1000, normed=True, histtype='bar', alpha=0.5)\n",
    "p2 = plt.hist(data, 1000, normed=True, histtype='bar', alpha=0.5)"
   ]
  },
  {
   "cell_type": "code",
   "execution_count": 42,
   "metadata": {},
   "outputs": [
    {
     "name": "stdout",
     "output_type": "stream",
     "text": [
      "64\n"
     ]
    }
   ],
   "source": [
    "l = G(z).cpu().detach().numpy()\n",
    "print(len(l))"
   ]
  },
  {
   "cell_type": "code",
   "execution_count": 43,
   "metadata": {},
   "outputs": [
    {
     "name": "stdout",
     "output_type": "stream",
     "text": [
      "0.0431691\n"
     ]
    }
   ],
   "source": [
    "flat_list = [item for sublist in l for item in sublist]\n",
    "print(flat_list[0])\n"
   ]
  },
  {
   "cell_type": "markdown",
   "metadata": {},
   "source": [
    "### Image interpolation\n",
    "\n",
    "Let us try to interpolate between images"
   ]
  },
  {
   "cell_type": "markdown",
   "metadata": {},
   "source": [
    "## Points to ponder\n",
    "1. What happens if we don't do Xavier initialization?\n",
    "2. What happens if we change the learning rate and other parameters?\n",
    "3. What happens if we reduce the size of hidden layer to 10?\n",
    "4. Is there any way to determine the class of the generated images by changing the input noise vector?\n",
    "5. How long do we have to train the GAN to get good results? Can you plot the loss of the generator and discriminator and see if there is a correlation?\n"
   ]
  }
 ],
 "metadata": {
  "celltoolbar": "Slideshow",
  "kernelspec": {
   "display_name": "Python 2",
   "language": "python",
   "name": "python2"
  },
  "language_info": {
   "codemirror_mode": {
    "name": "ipython",
    "version": 2
   },
   "file_extension": ".py",
   "mimetype": "text/x-python",
   "name": "python",
   "nbconvert_exporter": "python",
   "pygments_lexer": "ipython2",
   "version": "2.7.12"
  }
 },
 "nbformat": 4,
 "nbformat_minor": 2
}
