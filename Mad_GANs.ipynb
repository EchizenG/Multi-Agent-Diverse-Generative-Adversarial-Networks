{
 "cells": [
  {
   "cell_type": "markdown",
   "metadata": {
    "slideshow": {
     "slide_type": "slide"
    }
   },
   "source": [
    "## MAD GAN"
   ]
  },
  {
   "cell_type": "code",
   "execution_count": 15,
   "metadata": {
    "slideshow": {
     "slide_type": "slide"
    }
   },
   "outputs": [],
   "source": [
    "# Initialization of libraries\n",
    "import torch\n",
    "import torch.nn\n",
    "import torch.nn as nn\n",
    "import torch.autograd as autograd\n",
    "import torch.optim as optim\n",
    "import numpy as np\n",
    "import matplotlib.pyplot as plt\n",
    "import matplotlib.gridspec as gridspec\n",
    "import os\n",
    "from torch.autograd import Variable\n",
    "import torchvision\n",
    "import torchvision.transforms as transforms\n",
    "import random\n",
    "from random import randint\n",
    "from sklearn.mixture import GMM\n",
    "device = torch.device('cuda')\n",
    "%matplotlib inline"
   ]
  },
  {
   "cell_type": "code",
   "execution_count": 16,
   "metadata": {},
   "outputs": [],
   "source": [
    "# defining parameters for the training\n",
    "mb_size = 128 # Batch Size\n",
    "Z_dim = 64  # Length of noise vector\n",
    "X_dim = 1  # Input Length\n",
    "h_dim = 128  # Hidden Dimension\n",
    "lr = 1e-4    # Learning Rate\n",
    "num_gen = 4"
   ]
  },
  {
   "cell_type": "code",
   "execution_count": 3,
   "metadata": {
    "slideshow": {
     "slide_type": "slide"
    }
   },
   "outputs": [
    {
     "name": "stderr",
     "output_type": "stream",
     "text": [
      "/home/shyam.nandan/.local/lib/python2.7/site-packages/sklearn/utils/deprecation.py:58: DeprecationWarning: Class GMM is deprecated; The class GMM is deprecated in 0.18 and will be  removed in 0.20. Use class GaussianMixture instead.\n",
      "  warnings.warn(msg, category=DeprecationWarning)\n"
     ]
    },
    {
     "data": {
      "text/plain": [
       "(array([ 1.,  0.,  0., ...,  0.,  0.,  1.]),\n",
       " array([  0.00000000e+00,   5.00000000e-06,   1.00000000e-05, ...,\n",
       "          9.99990000e-01,   9.99995000e-01,   1.00000000e+00]),\n",
       " <a list of 1 Patch objects>)"
      ]
     },
     "execution_count": 3,
     "metadata": {},
     "output_type": "execute_result"
    },
    {
     "data": {
      "image/png": "[encoded data removed]",
      "text/plain": [
       "<matplotlib.figure.Figure at 0x7f2f660f3450>"
      ]
     },
     "metadata": {},
     "output_type": "display_data"
    }
   ],
   "source": [
    "np.random.seed(1)\n",
    "gmm = GMM(5)\n",
    "gmm.means_ = np.array([[10], [20], [60], [80], [110]])\n",
    "gmm.covars_ = np.array([[3], [3], [2], [2], [1]]) ** 2\n",
    "gmm.weights_ = np.array([0.2, 0.2, 0.2, 0.2, 0.2])\n",
    "\n",
    "X = gmm.sample(200000)\n",
    "data = X\n",
    "data = (data - X.min())/(X.max()-X.min())\n",
    "plt.hist(data, 200000, normed=False, histtype='stepfilled', alpha=1)"
   ]
  },
  {
   "cell_type": "code",
   "execution_count": 4,
   "metadata": {
    "slideshow": {
     "slide_type": "slide"
    }
   },
   "outputs": [],
   "source": [
    "G = []\n",
    "for i in range(num_gen):\n",
    "    G.append(torch.nn.Sequential(\n",
    "        torch.nn.Linear(Z_dim, h_dim),\n",
    "        torch.nn.PReLU(),\n",
    "        torch.nn.Linear(h_dim, h_dim),\n",
    "        torch.nn.PReLU(),\n",
    "        torch.nn.Linear(h_dim, X_dim),\n",
    "        torch.nn.Sigmoid()\n",
    "    ).cuda())\n",
    "\n",
    "D = torch.nn.Sequential(\n",
    "    torch.nn.Linear(X_dim, h_dim),\n",
    "    torch.nn.LeakyReLU(0.2),\n",
    "    torch.nn.Linear(h_dim, h_dim),\n",
    "    torch.nn.LeakyReLU(0.2),\n",
    "    torch.nn.Linear(h_dim, num_gen + 1),\n",
    "    torch.nn.Softmax()\n",
    ").cuda()"
   ]
  },
  {
   "cell_type": "code",
   "execution_count": 5,
   "metadata": {
    "slideshow": {
     "slide_type": "slide"
    }
   },
   "outputs": [],
   "source": [
    "G_solver = []\n",
    "for i in range(num_gen):\n",
    "    G_solver.append(optim.Adam(G[i].parameters(), lr))\n",
    "D_solver = optim.Adam(D.parameters(), lr)\n",
    "###\n",
    "loss = nn.CrossEntropyLoss()\n",
    "label_G = Variable(torch.LongTensor(mb_size))\n",
    "label_G = label_G.to(device)\n",
    "label_D = Variable(torch.LongTensor(mb_size))\n",
    "label_D = label_D.to(device)"
   ]
  },
  {
   "cell_type": "code",
   "execution_count": 6,
   "metadata": {},
   "outputs": [],
   "source": [
    "# Reset the gradients to zero\n",
    "params = [G[0], G[1], G[2], G[3], D]\n",
    "def reset_grad():\n",
    "    for net in params:\n",
    "        net.zero_grad()\n",
    "reset_grad()"
   ]
  },
  {
   "cell_type": "code",
   "execution_count": 7,
   "metadata": {},
   "outputs": [
    {
     "name": "stderr",
     "output_type": "stream",
     "text": [
      "/home/shyam.nandan/.local/lib/python2.7/site-packages/torch/nn/modules/container.py:91: UserWarning: Implicit dimension choice for softmax has been deprecated. Change the call to include dim=X as an argument.\n",
      "  input = module(input)\n"
     ]
    },
    {
     "name": "stdout",
     "output_type": "stream",
     "text": [
      "Iter-0; D_loss: 12.8343067169; G_loss: 6.44309520721\n",
      "Iter-1000; D_loss: 11.8162298203; G_loss: 5.75694847107\n",
      "Iter-2000; D_loss: 12.2322769165; G_loss: 5.86067295074\n",
      "Iter-3000; D_loss: 12.512131691; G_loss: 5.07155609131\n",
      "Iter-4000; D_loss: 12.2952156067; G_loss: 5.54977607727\n",
      "Iter-5000; D_loss: 12.4679040909; G_loss: 5.28224134445\n",
      "Iter-6000; D_loss: 11.6162033081; G_loss: 5.33512115479\n",
      "Iter-7000; D_loss: 11.9482212067; G_loss: 6.25536155701\n",
      "Iter-8000; D_loss: 12.9537563324; G_loss: 6.14956378937\n",
      "Iter-9000; D_loss: 12.4838132858; G_loss: 6.00045537949\n",
      "Iter-10000; D_loss: 11.9373083115; G_loss: 5.06630373001\n",
      "Iter-11000; D_loss: 12.490530014; G_loss: 6.20711040497\n",
      "Iter-12000; D_loss: 12.5085783005; G_loss: 6.16673660278\n",
      "Iter-13000; D_loss: 11.6566467285; G_loss: 5.36638450623\n",
      "Iter-14000; D_loss: 12.9825077057; G_loss: 6.06074047089\n",
      "Iter-15000; D_loss: 11.6715431213; G_loss: 5.62514352798\n",
      "Iter-16000; D_loss: 12.2253437042; G_loss: 5.83064842224\n",
      "Iter-17000; D_loss: 12.4833259583; G_loss: 5.8183722496\n",
      "Iter-18000; D_loss: 12.2215614319; G_loss: 5.6734623909\n",
      "Iter-19000; D_loss: 11.7251386642; G_loss: 4.71486186981\n",
      "Iter-20000; D_loss: 12.4202289581; G_loss: 5.84736585617\n",
      "Iter-21000; D_loss: 11.7915534973; G_loss: 5.32294082642\n",
      "Iter-22000; D_loss: 12.3800640106; G_loss: 4.98732376099\n",
      "Iter-23000; D_loss: 11.7842636108; G_loss: 5.01678800583\n",
      "Iter-24000; D_loss: 12.0779933929; G_loss: 5.04183006287\n",
      "Iter-25000; D_loss: 11.4371471405; G_loss: 5.04088783264\n",
      "Iter-26000; D_loss: 12.8366651535; G_loss: 5.17475032806\n",
      "Iter-27000; D_loss: 12.5827283859; G_loss: 4.89024782181\n",
      "Iter-28000; D_loss: 11.9620456696; G_loss: 6.23032188416\n",
      "Iter-29000; D_loss: 12.2326669693; G_loss: 5.06078720093\n",
      "Iter-30000; D_loss: 11.9170722961; G_loss: 4.90951442719\n",
      "Iter-31000; D_loss: 12.7654628754; G_loss: 6.02024936676\n",
      "Iter-32000; D_loss: 13.0770425797; G_loss: 6.18537902832\n",
      "Iter-33000; D_loss: 12.0350599289; G_loss: 5.7364988327\n",
      "Iter-34000; D_loss: 11.4997310638; G_loss: 5.0989074707\n",
      "Iter-35000; D_loss: 11.9853563309; G_loss: 5.15731811523\n",
      "Iter-36000; D_loss: 12.0358304977; G_loss: 6.03458213806\n",
      "Iter-37000; D_loss: 12.0142774582; G_loss: 5.1500916481\n",
      "Iter-38000; D_loss: 11.2529678345; G_loss: 4.73483371735\n",
      "Iter-39000; D_loss: 11.8778772354; G_loss: 4.97396421432\n",
      "Iter-40000; D_loss: 11.4328136444; G_loss: 5.26051282883\n",
      "Iter-41000; D_loss: 12.1902179718; G_loss: 5.42673301697\n",
      "Iter-42000; D_loss: 13.1413822174; G_loss: 5.55527210236\n",
      "Iter-43000; D_loss: 12.4724617004; G_loss: 5.9506354332\n",
      "Iter-44000; D_loss: 11.964015007; G_loss: 6.067466259\n",
      "Iter-45000; D_loss: 11.5468406677; G_loss: 5.7475605011\n",
      "Iter-46000; D_loss: 12.7577934265; G_loss: 5.64427280426\n",
      "Iter-47000; D_loss: 12.1806211472; G_loss: 6.06208848953\n",
      "Iter-48000; D_loss: 12.8820075989; G_loss: 5.04801225662\n",
      "Iter-49000; D_loss: 11.7925891876; G_loss: 6.35416173935\n",
      "Iter-50000; D_loss: 12.6423501968; G_loss: 5.36060190201\n",
      "Iter-51000; D_loss: 12.0532741547; G_loss: 4.94579601288\n",
      "Iter-52000; D_loss: 11.4101257324; G_loss: 6.02856636047\n",
      "Iter-53000; D_loss: 12.111158371; G_loss: 4.90968608856\n",
      "Iter-54000; D_loss: 12.6552820206; G_loss: 6.23732376099\n",
      "Iter-55000; D_loss: 12.1679124832; G_loss: 5.34164333344\n",
      "Iter-56000; D_loss: 11.9949617386; G_loss: 5.29439163208\n",
      "Iter-57000; D_loss: 12.0765628815; G_loss: 5.671667099\n",
      "Iter-58000; D_loss: 11.4984531403; G_loss: 6.0912733078\n",
      "Iter-59000; D_loss: 12.632440567; G_loss: 5.38123893738\n",
      "Iter-60000; D_loss: 11.7900524139; G_loss: 6.09951019287\n",
      "Iter-61000; D_loss: 12.7295370102; G_loss: 6.45234012604\n",
      "Iter-62000; D_loss: 12.9537038803; G_loss: 4.95184421539\n",
      "Iter-63000; D_loss: 12.2851352692; G_loss: 6.08855772018\n",
      "Iter-64000; D_loss: 12.5902004242; G_loss: 5.98291301727\n",
      "Iter-65000; D_loss: 11.9991197586; G_loss: 5.22451686859\n",
      "Iter-66000; D_loss: 12.2533941269; G_loss: 4.95803070068\n",
      "Iter-67000; D_loss: 12.4741592407; G_loss: 4.82939147949\n",
      "Iter-68000; D_loss: 12.1467542648; G_loss: 4.9385228157\n",
      "Iter-69000; D_loss: 12.4859457016; G_loss: 5.67315769196\n",
      "Iter-70000; D_loss: 11.8619346619; G_loss: 5.84178161621\n",
      "Iter-71000; D_loss: 12.7953472137; G_loss: 6.21971988678\n",
      "Iter-72000; D_loss: 11.7463922501; G_loss: 5.95766782761\n",
      "Iter-73000; D_loss: 11.7660694122; G_loss: 4.89643192291\n",
      "Iter-74000; D_loss: 11.983839035; G_loss: 5.06567287445\n",
      "Iter-75000; D_loss: 11.508430481; G_loss: 5.55780315399\n",
      "Iter-76000; D_loss: 11.9603233337; G_loss: 5.54042816162\n",
      "Iter-77000; D_loss: 12.2505378723; G_loss: 5.19663572311\n",
      "Iter-78000; D_loss: 13.0159950256; G_loss: 4.93491697311\n",
      "Iter-79000; D_loss: 11.7641553879; G_loss: 4.87725257874\n",
      "Iter-80000; D_loss: 11.3546619415; G_loss: 5.65466022491\n",
      "Iter-81000; D_loss: 12.4501876831; G_loss: 5.29980659485\n",
      "Iter-82000; D_loss: 11.3747434616; G_loss: 5.03039550781\n",
      "Iter-83000; D_loss: 12.5586671829; G_loss: 5.75526094437\n",
      "Iter-84000; D_loss: 12.615524292; G_loss: 5.6507434845\n",
      "Iter-85000; D_loss: 12.944196701; G_loss: 5.98272752762\n",
      "Iter-86000; D_loss: 12.0483646393; G_loss: 5.31933498383\n",
      "Iter-87000; D_loss: 11.5037469864; G_loss: 5.03967952728\n",
      "Iter-88000; D_loss: 11.7573757172; G_loss: 6.50023841858\n",
      "Iter-89000; D_loss: 12.1904735565; G_loss: 5.59152030945\n",
      "Iter-90000; D_loss: 11.9800930023; G_loss: 5.87998914719\n",
      "Iter-91000; D_loss: 11.6522388458; G_loss: 6.28132581711\n",
      "Iter-92000; D_loss: 11.7298088074; G_loss: 5.82237243652\n",
      "Iter-93000; D_loss: 12.9508552551; G_loss: 5.31410932541\n",
      "Iter-94000; D_loss: 12.1331090927; G_loss: 5.08785438538\n",
      "Iter-95000; D_loss: 12.3275661469; G_loss: 4.85191869736\n",
      "Iter-96000; D_loss: 12.3036260605; G_loss: 6.35964155197\n",
      "Iter-97000; D_loss: 12.7730321884; G_loss: 5.0069732666\n",
      "Iter-98000; D_loss: 12.5949602127; G_loss: 6.37462854385\n",
      "Iter-99000; D_loss: 11.7004404068; G_loss: 5.03187799454\n",
      "Iter-100000; D_loss: 11.3784675598; G_loss: 4.82616376877\n",
      "Iter-101000; D_loss: 12.7121543884; G_loss: 5.90405654907\n",
      "Iter-102000; D_loss: 12.1554918289; G_loss: 5.19199705124\n",
      "Iter-103000; D_loss: 12.2374858856; G_loss: 5.23749399185\n",
      "Iter-104000; D_loss: 11.7206554413; G_loss: 5.1106095314\n",
      "Iter-105000; D_loss: 11.305264473; G_loss: 4.89478063583\n",
      "Iter-106000; D_loss: 11.8842391968; G_loss: 5.56633281708\n",
      "Iter-107000; D_loss: 12.5372591019; G_loss: 5.39636564255\n",
      "Iter-108000; D_loss: 12.6764717102; G_loss: 5.200694561\n",
      "Iter-109000; D_loss: 12.338561058; G_loss: 5.66968727112\n",
      "Iter-110000; D_loss: 11.6339473724; G_loss: 5.36281681061\n",
      "Iter-111000; D_loss: 12.333782196; G_loss: 6.1066160202\n",
      "Iter-112000; D_loss: 12.4133834839; G_loss: 5.04022932053\n",
      "Iter-113000; D_loss: 12.3301410675; G_loss: 5.39777040482\n",
      "Iter-114000; D_loss: 12.6613464355; G_loss: 5.40240526199\n",
      "Iter-115000; D_loss: 11.9687585831; G_loss: 6.08811616898\n",
      "Iter-116000; D_loss: 12.2169961929; G_loss: 5.79208517075\n",
      "Iter-117000; D_loss: 12.8610553741; G_loss: 4.95644807816\n",
      "Iter-118000; D_loss: 12.9670581818; G_loss: 5.30724811554\n",
      "Iter-119000; D_loss: 12.8594789505; G_loss: 5.44720077515\n",
      "Iter-120000; D_loss: 12.8796272278; G_loss: 5.44155836105\n",
      "Iter-121000; D_loss: 12.6920785904; G_loss: 4.7888469696\n",
      "Iter-122000; D_loss: 12.3282089233; G_loss: 4.61112880707\n",
      "Iter-123000; D_loss: 12.0172939301; G_loss: 5.13950920105\n",
      "Iter-124000; D_loss: 12.3451309204; G_loss: 6.05390787125\n",
      "Iter-125000; D_loss: 12.7121238708; G_loss: 5.64352273941\n",
      "Iter-126000; D_loss: 11.9780235291; G_loss: 4.84123182297\n",
      "Iter-127000; D_loss: 12.18217659; G_loss: 5.62212562561\n",
      "Iter-128000; D_loss: 12.2704658508; G_loss: 5.93379592896\n",
      "Iter-129000; D_loss: 13.0278491974; G_loss: 5.99120664597\n",
      "Iter-130000; D_loss: 12.2660865784; G_loss: 5.52860832214\n",
      "Iter-131000; D_loss: 12.1222639084; G_loss: 5.34238481522\n",
      "Iter-132000; D_loss: 12.4394340515; G_loss: 4.89297294617\n",
      "Iter-133000; D_loss: 12.6838302612; G_loss: 6.05870246887\n",
      "Iter-134000; D_loss: 11.7528743744; G_loss: 4.96331787109\n",
      "Iter-135000; D_loss: 12.456035614; G_loss: 4.88122797012\n",
      "Iter-136000; D_loss: 11.5736503601; G_loss: 5.11019849777\n",
      "Iter-137000; D_loss: 11.858795166; G_loss: 5.54554986954\n",
      "Iter-138000; D_loss: 11.6859169006; G_loss: 5.91596794128\n",
      "Iter-139000; D_loss: 12.4088630676; G_loss: 6.31227016449\n",
      "Iter-140000; D_loss: 12.4418106079; G_loss: 5.46490955353\n",
      "Iter-141000; D_loss: 12.550740242; G_loss: 5.37969493866\n",
      "Iter-142000; D_loss: 11.7723855972; G_loss: 5.11328792572\n",
      "Iter-143000; D_loss: 11.8992919922; G_loss: 4.77158117294\n"
     ]
    },
    {
     "name": "stdout",
     "output_type": "stream",
     "text": [
      "Iter-144000; D_loss: 12.5456905365; G_loss: 5.02406978607\n",
      "Iter-145000; D_loss: 11.4033050537; G_loss: 5.54800891876\n",
      "Iter-146000; D_loss: 12.2819213867; G_loss: 6.05532884598\n",
      "Iter-147000; D_loss: 13.3139381409; G_loss: 5.03415679932\n",
      "Iter-148000; D_loss: 11.9964923859; G_loss: 4.76354455948\n",
      "Iter-149000; D_loss: 12.0977611542; G_loss: 5.4749083519\n",
      "Iter-150000; D_loss: 12.763338089; G_loss: 4.92749452591\n",
      "Iter-151000; D_loss: 12.6116533279; G_loss: 5.767993927\n",
      "Iter-152000; D_loss: 11.5472555161; G_loss: 6.19716978073\n",
      "Iter-153000; D_loss: 11.7522315979; G_loss: 5.7862830162\n",
      "Iter-154000; D_loss: 11.8820419312; G_loss: 4.84447860718\n",
      "Iter-155000; D_loss: 12.7368402481; G_loss: 5.38472747803\n",
      "Iter-156000; D_loss: 12.3887901306; G_loss: 5.13296985626\n",
      "Iter-157000; D_loss: 11.9174575806; G_loss: 5.70501470566\n",
      "Iter-158000; D_loss: 12.8244915009; G_loss: 5.76585054398\n",
      "Iter-159000; D_loss: 11.4775714874; G_loss: 5.15147686005\n",
      "Iter-160000; D_loss: 12.0820674896; G_loss: 4.94896507263\n",
      "Iter-161000; D_loss: 12.6885766983; G_loss: 5.60146188736\n",
      "Iter-162000; D_loss: 12.3652076721; G_loss: 6.25338172913\n",
      "Iter-163000; D_loss: 12.2580938339; G_loss: 5.28083658218\n",
      "Iter-164000; D_loss: 13.2875528336; G_loss: 4.73492956161\n",
      "Iter-165000; D_loss: 12.7579460144; G_loss: 5.35893726349\n",
      "Iter-166000; D_loss: 11.4382352829; G_loss: 5.20867109299\n",
      "Iter-167000; D_loss: 12.4369382858; G_loss: 4.88356161118\n",
      "Iter-168000; D_loss: 11.5436115265; G_loss: 5.53987932205\n",
      "Iter-169000; D_loss: 12.1944026947; G_loss: 5.08965063095\n",
      "Iter-170000; D_loss: 12.0014896393; G_loss: 5.88385248184\n",
      "Iter-171000; D_loss: 11.4192447662; G_loss: 6.39142894745\n",
      "Iter-172000; D_loss: 11.9209423065; G_loss: 5.46946334839\n",
      "Iter-173000; D_loss: 11.7365016937; G_loss: 5.68616676331\n",
      "Iter-174000; D_loss: 12.8246679306; G_loss: 5.02029705048\n",
      "Iter-175000; D_loss: 11.978105545; G_loss: 5.29578399658\n",
      "Iter-176000; D_loss: 13.5471553802; G_loss: 6.14260387421\n",
      "Iter-177000; D_loss: 12.3802556992; G_loss: 5.72368001938\n",
      "Iter-178000; D_loss: 12.2383480072; G_loss: 6.00967502594\n",
      "Iter-179000; D_loss: 12.2837600708; G_loss: 5.81026029587\n",
      "Iter-180000; D_loss: 12.9208755493; G_loss: 5.91058731079\n",
      "Iter-181000; D_loss: 11.7411603928; G_loss: 5.4262547493\n",
      "Iter-182000; D_loss: 11.5943984985; G_loss: 4.90877151489\n",
      "Iter-183000; D_loss: 11.7015295029; G_loss: 5.62644052505\n",
      "Iter-184000; D_loss: 12.9069108963; G_loss: 4.76424074173\n",
      "Iter-185000; D_loss: 11.5505981445; G_loss: 4.72452402115\n",
      "Iter-186000; D_loss: 12.5907564163; G_loss: 6.48604011536\n",
      "Iter-187000; D_loss: 12.200428009; G_loss: 5.26170301437\n",
      "Iter-188000; D_loss: 12.7724714279; G_loss: 5.54454755783\n",
      "Iter-189000; D_loss: 11.9441795349; G_loss: 4.84569120407\n",
      "Iter-190000; D_loss: 11.3095817566; G_loss: 5.78014993668\n",
      "Iter-191000; D_loss: 11.9463386536; G_loss: 5.36397409439\n",
      "Iter-192000; D_loss: 12.0122089386; G_loss: 6.09614801407\n",
      "Iter-193000; D_loss: 12.1948232651; G_loss: 6.0958032608\n",
      "Iter-194000; D_loss: 12.0873775482; G_loss: 5.34928750992\n",
      "Iter-195000; D_loss: 13.6781158447; G_loss: 5.10434627533\n",
      "Iter-196000; D_loss: 12.1873922348; G_loss: 4.85710096359\n",
      "Iter-197000; D_loss: 11.3048629761; G_loss: 5.32760620117\n"
     ]
    }
   ],
   "source": [
    "data_index = 0\n",
    "for it in range(198000):\n",
    "    if ((data_index + 1)*mb_size>len(data)):\n",
    "        data_index = 0\n",
    "\n",
    "    X = torch.from_numpy(np.array(data[data_index*mb_size : (data_index + 1)*mb_size]))\n",
    "    X = X.view(mb_size, 1)\n",
    "    X = X.type(torch.FloatTensor)\n",
    "    X = X.to(device)\n",
    "    Total_D_loss = 0\n",
    "    for i in range(num_gen):\n",
    "        # Dicriminator forward-loss-backward-update\n",
    "        #forward pass\n",
    "        z = torch.FloatTensor(mb_size, Z_dim).uniform_(-1, 1)\n",
    "        z = z.to(device)\n",
    "        G_sample = G[i](z)\n",
    "        D_real = D(X)\n",
    "        D_fake = D(G_sample)\n",
    "        # Calculate the loss\n",
    "        D_loss_real = loss(D_real,label_D.fill_(num_gen + 0.1*randint(-1,1)))\n",
    "        D_loss_fake = loss(D_fake, label_G.fill_(i + 0.1*randint(-1,1)))\n",
    "        D_loss = D_loss_real + D_loss_fake\n",
    "        Total_D_loss = D_loss + Total_D_loss\n",
    "        # Calulate and update gradients of discriminator\n",
    "        D_loss.backward()\n",
    "        D_solver.step()\n",
    "\n",
    "        # reset gradient\n",
    "        reset_grad()\n",
    "\n",
    "    # Generator forward-loss-backward-update\n",
    "    \n",
    "    Total_G_loss = 0\n",
    "    for i in range(num_gen):\n",
    "        \n",
    "        z = torch.FloatTensor(mb_size, Z_dim).uniform_(-1, 1)\n",
    "        z = z.to(device)\n",
    "        G_sample = G[i](z)\n",
    "        D_fake = D(G_sample)\n",
    "\n",
    "        G_loss = loss(D_fake, label_D.fill_(num_gen + 0.1*randint(-1,1)))\n",
    "        Total_G_loss = G_loss + Total_G_loss\n",
    "        G_loss.backward()\n",
    "        G_solver[i].step()\n",
    "\n",
    "        # reset gradient\n",
    "        reset_grad()\n",
    "        \n",
    "    data_index = data_index + 1\n",
    "    # Print and plot every now and then\n",
    "    if it % 1000 == 0:\n",
    "        print('Iter-{}; D_loss: {}; G_loss: {}'.format(it, Total_D_loss.data.cpu().numpy(), Total_G_loss.data.cpu().numpy()))"
   ]
  },
  {
   "cell_type": "markdown",
   "metadata": {},
   "source": [
    " Let us see the images generated by the generator:"
   ]
  },
  {
   "cell_type": "code",
   "execution_count": 18,
   "metadata": {},
   "outputs": [
    {
     "data": {
      "image/png": "[encoded data removed]",
      "text/plain": [
       "<matplotlib.figure.Figure at 0x7f2f1fafaf90>"
      ]
     },
     "metadata": {},
     "output_type": "display_data"
    }
   ],
   "source": [
    "import numpy as np\n",
    "final = np.zeros(1500*mb_size, dtype = float)\n",
    "for i in range(1500):\n",
    "    z = torch.FloatTensor(64, Z_dim).uniform_(-1, 1)\n",
    "    z = z.to(device)\n",
    "    l = G[randint(0,num_gen-1)](z).cpu().detach().numpy()\n",
    "    final[i*mb_size : ((i+ 1)*mb_size -1)] = l[0]\n",
    "p1 = plt.hist(final, 500, normed=True, histtype='bar', alpha=0.5)\n",
    "p2 = plt.hist(data, 500, normed=True, histtype='bar', alpha=0.5)"
   ]
  }
 ],
 "metadata": {
  "celltoolbar": "Slideshow",
  "kernelspec": {
   "display_name": "Python 2",
   "language": "python",
   "name": "python2"
  },
  "language_info": {
   "codemirror_mode": {
    "name": "ipython",
    "version": 2
   },
   "file_extension": ".py",
   "mimetype": "text/x-python",
   "name": "python",
   "nbconvert_exporter": "python",
   "pygments_lexer": "ipython2",
   "version": "2.7.12"
  }
 },
 "nbformat": 4,
 "nbformat_minor": 2
}
